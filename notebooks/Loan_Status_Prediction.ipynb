{
 "cells": [
  {
   "cell_type": "markdown",
   "id": "b5e4d62d",
   "metadata": {},
   "source": [
    "# Loan Status Prediction\n",
    "\n",
    "A clean, reproducible notebook: EDA → Features → Training → Evaluation.\n"
   ]
  },
  {
   "cell_type": "code",
   "execution_count": null,
   "id": "28eb0c9f",
   "metadata": {},
   "outputs": [],
   "source": [
    "\n",
    "# Imports\n",
    "import pandas as pd, numpy as np\n",
    "import matplotlib.pyplot as plt\n",
    "from pathlib import Path\n",
    "from sklearn.model_selection import train_test_split\n",
    "from sklearn.metrics import accuracy_score, roc_auc_score, ConfusionMatrixDisplay, RocCurveDisplay\n",
    "from sklearn.preprocessing import OneHotEncoder\n",
    "from sklearn.compose import ColumnTransformer\n",
    "from sklearn.impute import SimpleImputer\n",
    "from sklearn.pipeline import Pipeline\n",
    "from sklearn.linear_model import LogisticRegression\n",
    "from sklearn.ensemble import RandomForestClassifier\n",
    "from sklearn.calibration import CalibratedClassifierCV\n",
    "import joblib, json, os\n",
    "plt.rcParams['figure.dpi'] = 120\n",
    "\n",
    "DATA = Path('data/raw/loan_approval_dataset.csv')\n",
    "assert DATA.exists(), f'Missing dataset: {DATA}'\n",
    "df = pd.read_csv(DATA)\n",
    "df.head()\n"
   ]
  },
  {
   "cell_type": "markdown",
   "id": "2f9dc132",
   "metadata": {},
   "source": [
    "## Quick EDA"
   ]
  },
  {
   "cell_type": "code",
   "execution_count": null,
   "id": "73fcfc41",
   "metadata": {},
   "outputs": [],
   "source": [
    "\n",
    "display(df.info())\n",
    "display(df.describe(include='all').T)\n",
    "# Target distribution if present\n",
    "if 'Loan_Status' in df.columns:\n",
    "    print('Target distribution:')\n",
    "    print(df['Loan_Status'].value_counts(normalize=True).round(3))\n"
   ]
  },
  {
   "cell_type": "markdown",
   "id": "ca47af23",
   "metadata": {},
   "source": [
    "## Train/Test Split"
   ]
  },
  {
   "cell_type": "code",
   "execution_count": null,
   "id": "c1cc60f6",
   "metadata": {},
   "outputs": [],
   "source": [
    "\n",
    "target = 'Loan_Status'\n",
    "X = df.drop(columns=[target])\n",
    "y = df[target]\n",
    "X_train, X_test, y_train, y_test = train_test_split(X, y, test_size=0.2, random_state=42, stratify=y)\n",
    "X_train.shape, X_test.shape\n"
   ]
  },
  {
   "cell_type": "markdown",
   "id": "0c438a17",
   "metadata": {},
   "source": [
    "## Preprocessing (Impute + OneHot)"
   ]
  },
  {
   "cell_type": "code",
   "execution_count": null,
   "id": "a63d5762",
   "metadata": {},
   "outputs": [],
   "source": [
    "\n",
    "cat_cols = [c for c in X.columns if X[c].dtype == 'object']\n",
    "num_cols = [c for c in X.columns if np.issubdtype(X[c].dtype, np.number)]\n",
    "\n",
    "pre = ColumnTransformer([\n",
    "    ('num', SimpleImputer(strategy='median'), num_cols),\n",
    "    ('cat', OneHotEncoder(handle_unknown='ignore', sparse_output=False), cat_cols),\n",
    "])\n"
   ]
  },
  {
   "cell_type": "markdown",
   "id": "638f9742",
   "metadata": {},
   "source": [
    "## Baseline: Logistic Regression"
   ]
  },
  {
   "cell_type": "code",
   "execution_count": null,
   "id": "875c4905",
   "metadata": {},
   "outputs": [],
   "source": [
    "\n",
    "logreg = Pipeline([('pre', pre), ('clf', LogisticRegression(max_iter=1000))])\n",
    "logreg.fit(X_train, y_train)\n",
    "y_prob_lr = logreg.predict_proba(X_test)[:,1]\n",
    "y_pred_lr = (y_prob_lr >= 0.5).astype(int) if set(y.unique())=={0,1} else logreg.predict(X_test)\n",
    "acc_lr = accuracy_score(y_test, logreg.predict(X_test))\n",
    "auc_lr = roc_auc_score(y_test, y_prob_lr) if set(y.unique())=={0,1} else None\n",
    "print(f'Logistic → Accuracy: {acc_lr:.3f} | ROC-AUC: {auc_lr}')\n"
   ]
  },
  {
   "cell_type": "markdown",
   "id": "d4046ba8",
   "metadata": {},
   "source": [
    "## Tuned Model: Random Forest + Calibration"
   ]
  },
  {
   "cell_type": "code",
   "execution_count": null,
   "id": "683fa092",
   "metadata": {},
   "outputs": [],
   "source": [
    "\n",
    "rf = Pipeline([('pre', pre), ('clf', RandomForestClassifier(n_estimators=300, random_state=42))])\n",
    "cal_rf = CalibratedClassifierCV(rf, method='isotonic', cv=3)\n",
    "cal_rf.fit(X_train, y_train)\n",
    "y_prob = cal_rf.predict_proba(X_test)[:,1]\n",
    "y_pred = cal_rf.predict(X_test)\n",
    "acc = accuracy_score(y_test, y_pred)\n",
    "auc = roc_auc_score(y_test, y_prob)\n",
    "print(f'RandomForest (calibrated) → Accuracy: {acc:.3f} | ROC-AUC: {auc:.3f}')\n"
   ]
  },
  {
   "cell_type": "markdown",
   "id": "623969cf",
   "metadata": {},
   "source": [
    "## Plots: Confusion Matrix & ROC"
   ]
  },
  {
   "cell_type": "code",
   "execution_count": null,
   "id": "2db33dfb",
   "metadata": {},
   "outputs": [],
   "source": [
    "\n",
    "figdir = Path('reports/figures'); figdir.mkdir(parents=True, exist_ok=True)\n",
    "ConfusionMatrixDisplay.from_estimator(cal_rf, X_test, y_test); plt.tight_layout(); plt.savefig(figdir/'confusion_matrix.png'); plt.show()\n",
    "RocCurveDisplay.from_estimator(cal_rf, X_test, y_test); plt.tight_layout(); plt.savefig(figdir/'roc_curve.png'); plt.show()\n"
   ]
  },
  {
   "cell_type": "markdown",
   "id": "1670245c",
   "metadata": {},
   "source": [
    "## Save Model & Metrics"
   ]
  },
  {
   "cell_type": "code",
   "execution_count": null,
   "id": "f1462f02",
   "metadata": {},
   "outputs": [],
   "source": [
    "\n",
    "from sklearn.metrics import classification_report\n",
    "os.makedirs('models', exist_ok=True)\n",
    "joblib.dump(cal_rf, 'models/best_model.pkl')\n",
    "rep = classification_report(y_test, y_pred, output_dict=True)\n",
    "os.makedirs('reports', exist_ok=True)\n",
    "json.dump({'roc_auc': float(auc), 'report': rep}, open('reports/metrics.json','w'), indent=2)\n",
    "print('Saved: models/best_model.pkl, reports/metrics.json, reports/figures/*.png')\n"
   ]
  }
 ],
 "metadata": {},
 "nbformat": 4,
 "nbformat_minor": 5
}
